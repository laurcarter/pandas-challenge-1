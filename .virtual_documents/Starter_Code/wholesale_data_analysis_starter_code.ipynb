


import pandas as pd

df = pd.read_csv('Resources/client_dataset.csv')
df.head()


# View the column names in the data
df.columns


# Use the describe function to gather some basic statistics
df.describe()


# Use this space to do any additional research
# and familiarize yourself with the data.
df.dtypes


# What three item categories had the most entries?
top_three_categories = df['category'].value_counts().head(3)
print(top_three_categories)


# For the category with the most entries, which subcategory had the most entries?
filtered_df = df[df['category'] == 'consumables']
most_common_subcategory = filtered_df['subcategory'].value_counts().idxmax()
print (most_common_subcategory)


# Which five clients had the most entries in the data?
top_five_clients = df['client_id'].value_counts().head(5)
print(top_five_clients)


# Store the client ids of those top 5 clients in a list.
top_five_client_ids = top_five_clients.index.tolist()
print(top_five_client_ids)


# How many total units (the qty column) did the client with the most entries order order?
client_with_most_entries = df['client_id'].value_counts().idxmax()
client_df = df[df['client_id'] == client_with_most_entries]
total_units_ordered = client_df['qty'].sum()
print(total_units_ordered)





# Create a column that calculates the subtotal for each line using the unit_price and the qty
df['line_subtotal'] = df['unit_price'] * df['qty']
subset_df = df[['unit_price', 'qty', 'line_subtotal']]
print(subset_df.head(3))


# Create a column for shipping price.
# Assume a shipping price of $7 per pound for orders over 50 pounds and $10 per pound for items 50 pounds or under.
df['total_weight'] = df['unit_weight'] * df['qty']
df['shipping_price'] = df['total_weight'].apply(lambda weight: 7 * weight if weight > 50 else 10 * weight)
df[['unit_price','unit_weight', 'qty', 'total_weight','shipping_price']].head(3)


# Create a column for the total price using the subtotal and the shipping price along with a sales tax of 9.25%
sales_tax_rate = 0.0925
df['line_price'] = (df['line_subtotal'] + df['shipping_price']) * (1 + sales_tax_rate)
df[['line_subtotal', 'shipping_price', 'line_price']].head(3)


# Create a column for the cost of each line using unit cost, qty, and
# shipping price (assume the shipping cost is exactly what is charged to the client).
df['line_cost'] = (df['unit_cost'] * df['qty']) + df['shipping_price']
df.head(3)


# Create a column for the profit of each line using line cost and line price
df['line_profit'] = df['line_price'] - df['line_cost']
df.head(3)





# Check your work using the totals above
order_totals = df.groupby('order_id')['line_price'].sum()
provided_totals = {
    2742071: 152811.89,
    2173913: 162388.71,
    6128929: 923441.25
}
for order_id in provided_totals.keys():
    print(f"Order {order_id} total: ${order_totals.loc[order_id]:,.2f}")





# How much did each of the top 5 clients by quantity spend? Check your work from Part 1 for client ids.
client_spending = df.groupby('client_id')['line_price'].sum()
for client_id in top_five_client_ids:
    print(f"{client_id} : ${client_spending.loc[client_id]:,.2f}")


# Create a summary DataFrame showing the totals for the for the top 5 clients with the following information:
# total units purchased, total shipping price, total revenue, and total profit. 
pd.options.display.float_format = '{:,.2f}'.format
top_clients_df = df[df['client_id'].isin(top_five_client_ids)]
selected_columns = ['client_id', 'qty', 'shipping_price', 'line_price', 'line_cost', 'line_profit']
summary_df = top_clients_df.groupby('client_id')[selected_columns[1:]].sum().reset_index()
summary_df


# Format the data and rename the columns to names suitable for presentation.
pd.options.display.float_format = '{:,.6f}'.format
summary_df = top_clients_df.groupby('client_id')[selected_columns[1:]].sum().reset_index()

# Define the money columns. 
money_columns = ['shipping_price', 'line_price', 'line_cost', 'line_profit']

# Define a function that converts a dollar amount to millions.
def to_millions(amount):
    return amount / 1e6

# Apply the currency_format_millions function to only the money columns. 
for column in money_columns:
    summary_df[column] = summary_df[column].apply(to_millions)

# Rename the columns to reflect the change in the money format. 
summary_df.rename(columns={
    'client_id': 'Client ID',
    'qty': 'Units',
    'shipping_price': 'Shipping (millions)',
    'line_price': 'Total Revenue (millions)',
    'line_cost': 'Total Cost (millions)',
    'line_profit': 'Total Profit (millions)'
}, inplace=True)
summary_df



# Sort the updated data by "Total Profit (millions)" form highest to lowest and assign the sort to a new DatFrame.
sorted_summary_df = summary_df.sort_values(by='Total Profit (millions)', ascending=False)
sorted_summary_df



